{
  "nbformat": 4,
  "nbformat_minor": 0,
  "metadata": {
    "colab": {
      "provenance": [],
      "toc_visible": true,
      "authorship_tag": "ABX9TyN9XXc4yQwlMS7KTgDwR4z4",
      "include_colab_link": true
    },
    "kernelspec": {
      "name": "python3",
      "display_name": "Python 3"
    },
    "language_info": {
      "name": "python"
    }
  },
  "cells": [
    {
      "cell_type": "markdown",
      "metadata": {
        "id": "view-in-github",
        "colab_type": "text"
      },
      "source": [
        "<a href=\"https://colab.research.google.com/github/Indranil0603/versatile-data-kit/blob/Indranil%2FIndranil0603%2FColab-notebook-processing-data-using-SQL-and-local-database/examples/sqlite-example-notebook/sqlite-example-notebook.ipynb\" target=\"_parent\"><img src=\"https://colab.research.google.com/assets/colab-badge.svg\" alt=\"Open In Colab\"/></a>"
      ]
    },
    {
      "cell_type": "markdown",
      "source": [
        "# Processing data using SQl and local database"
      ],
      "metadata": {
        "id": "SiXBOvrboX9e"
      }
    },
    {
      "cell_type": "markdown",
      "source": [
        "The notebook provides a guide on how to read data from a local SQLite database, process it,and write the result to the same database using [Versatile Data Kit (VDK)](https://github.com/vmware/versatile-data-kit)\n"
      ],
      "metadata": {
        "id": "FpCoerAj0hau"
      }
    },
    {
      "cell_type": "markdown",
      "source": [
        "<a name=\"prerequisites\"></a>\n",
        "## 1. Prerequisites"
      ],
      "metadata": {
        "id": "f9XXCBpI1eMW"
      }
    },
    {
      "cell_type": "markdown",
      "source": [
        "### 1.1 Good to Know Before Your Start"
      ],
      "metadata": {
        "id": "q_pbljVH2cFr"
      }
    },
    {
      "cell_type": "markdown",
      "source": [
        "This tutorial can be easily understood if you are familiar with:\n",
        "\n",
        "- **Python and SQL**: Basic commands and queries\n",
        "- **Tools**: Comfort with command line and Jupyter Notebook"
      ],
      "metadata": {
        "id": "jYmcEhgE2zNn"
      }
    },
    {
      "cell_type": "markdown",
      "source": [
        "### 1.2 Useful notebook shortcuts"
      ],
      "metadata": {
        "id": "CKYPWV8-3XE8"
      }
    },
    {
      "cell_type": "markdown",
      "source": [
        "* Click the **Play icon** in the left gutter of the cell;\n",
        "* Type **Cmd/Ctrl+Enter** to run the cell in place;\n",
        "* Type **Shift+Enter** to run the cell and move focus to the next cell (adding one if none exists); or\n",
        "* Type **Alt+Enter** to run the cell and insert a new code cell immediately below it.\n",
        "\n",
        "There are additional options for running some or all cells in the **Runtime** menu on top."
      ],
      "metadata": {
        "id": "Mh2kLwz73mk3"
      }
    },
    {
      "cell_type": "markdown",
      "source": [
        "### 1.3 Install Versatile Data Kit and required plugins\n",
        "\n",
        "\n"
      ],
      "metadata": {
        "id": "5s_z56EF3v3o"
      }
    },
    {
      "cell_type": "code",
      "execution_count": 1,
      "metadata": {
        "id": "1tN44vxJoTLa",
        "colab": {
          "base_uri": "https://localhost:8080/"
        },
        "outputId": "5fce09f2-bce8-439c-cb1a-e10b92f9fb37"
      },
      "outputs": [
        {
          "output_type": "stream",
          "name": "stdout",
          "text": [
            "Collecting vdk-ipython\n",
            "  Downloading vdk-ipython-0.2.1190994517.tar.gz (11 kB)\n",
            "  Preparing metadata (setup.py) ... \u001b[?25l\u001b[?25hdone\n",
            "Collecting vdk-sqlite\n",
            "  Downloading vdk-sqlite-0.1.1190994517.tar.gz (7.1 kB)\n",
            "  Preparing metadata (setup.py) ... \u001b[?25l\u001b[?25hdone\n",
            "Collecting vdk-core (from vdk-ipython)\n",
            "  Downloading vdk-core-0.3.1229719287.tar.gz (117 kB)\n",
            "\u001b[2K     \u001b[90m━━━━━━━━━━━━━━━━━━━━━━━━━━━━━━━━━━━━━━━━\u001b[0m \u001b[32m117.2/117.2 kB\u001b[0m \u001b[31m1.2 MB/s\u001b[0m eta \u001b[36m0:00:00\u001b[0m\n",
            "\u001b[?25h  Preparing metadata (setup.py) ... \u001b[?25l\u001b[?25hdone\n",
            "Requirement already satisfied: iPython in /usr/local/lib/python3.10/dist-packages (from vdk-ipython) (7.34.0)\n",
            "Requirement already satisfied: pandas in /usr/local/lib/python3.10/dist-packages (from vdk-ipython) (2.0.3)\n",
            "Requirement already satisfied: tabulate in /usr/local/lib/python3.10/dist-packages (from vdk-sqlite) (0.9.0)\n",
            "Requirement already satisfied: setuptools>=18.5 in /usr/local/lib/python3.10/dist-packages (from iPython->vdk-ipython) (67.7.2)\n",
            "Collecting jedi>=0.16 (from iPython->vdk-ipython)\n",
            "  Downloading jedi-0.19.1-py2.py3-none-any.whl (1.6 MB)\n",
            "\u001b[2K     \u001b[90m━━━━━━━━━━━━━━━━━━━━━━━━━━━━━━━━━━━━━━━━\u001b[0m \u001b[32m1.6/1.6 MB\u001b[0m \u001b[31m10.3 MB/s\u001b[0m eta \u001b[36m0:00:00\u001b[0m\n",
            "\u001b[?25hRequirement already satisfied: decorator in /usr/local/lib/python3.10/dist-packages (from iPython->vdk-ipython) (4.4.2)\n",
            "Requirement already satisfied: pickleshare in /usr/local/lib/python3.10/dist-packages (from iPython->vdk-ipython) (0.7.5)\n",
            "Requirement already satisfied: traitlets>=4.2 in /usr/local/lib/python3.10/dist-packages (from iPython->vdk-ipython) (5.7.1)\n",
            "Requirement already satisfied: prompt-toolkit!=3.0.0,!=3.0.1,<3.1.0,>=2.0.0 in /usr/local/lib/python3.10/dist-packages (from iPython->vdk-ipython) (3.0.43)\n",
            "Requirement already satisfied: pygments in /usr/local/lib/python3.10/dist-packages (from iPython->vdk-ipython) (2.16.1)\n",
            "Requirement already satisfied: backcall in /usr/local/lib/python3.10/dist-packages (from iPython->vdk-ipython) (0.2.0)\n",
            "Requirement already satisfied: matplotlib-inline in /usr/local/lib/python3.10/dist-packages (from iPython->vdk-ipython) (0.1.6)\n",
            "Requirement already satisfied: pexpect>4.3 in /usr/local/lib/python3.10/dist-packages (from iPython->vdk-ipython) (4.9.0)\n",
            "Requirement already satisfied: python-dateutil>=2.8.2 in /usr/local/lib/python3.10/dist-packages (from pandas->vdk-ipython) (2.8.2)\n",
            "Requirement already satisfied: pytz>=2020.1 in /usr/local/lib/python3.10/dist-packages (from pandas->vdk-ipython) (2023.4)\n",
            "Requirement already satisfied: tzdata>=2022.1 in /usr/local/lib/python3.10/dist-packages (from pandas->vdk-ipython) (2024.1)\n",
            "Requirement already satisfied: numpy>=1.21.0 in /usr/local/lib/python3.10/dist-packages (from pandas->vdk-ipython) (1.25.2)\n",
            "Requirement already satisfied: click==8.* in /usr/local/lib/python3.10/dist-packages (from vdk-core->vdk-ipython) (8.1.7)\n",
            "Requirement already satisfied: pluggy in /usr/local/lib/python3.10/dist-packages (from vdk-core->vdk-ipython) (1.4.0)\n",
            "Collecting click_log (from vdk-core->vdk-ipython)\n",
            "  Downloading click_log-0.4.0-py2.py3-none-any.whl (4.3 kB)\n",
            "Requirement already satisfied: click-plugins in /usr/local/lib/python3.10/dist-packages (from vdk-core->vdk-ipython) (1.1.1)\n",
            "Requirement already satisfied: tenacity in /usr/local/lib/python3.10/dist-packages (from vdk-core->vdk-ipython) (8.2.3)\n",
            "Requirement already satisfied: parso<0.9.0,>=0.8.3 in /usr/local/lib/python3.10/dist-packages (from jedi>=0.16->iPython->vdk-ipython) (0.8.3)\n",
            "Requirement already satisfied: ptyprocess>=0.5 in /usr/local/lib/python3.10/dist-packages (from pexpect>4.3->iPython->vdk-ipython) (0.7.0)\n",
            "Requirement already satisfied: wcwidth in /usr/local/lib/python3.10/dist-packages (from prompt-toolkit!=3.0.0,!=3.0.1,<3.1.0,>=2.0.0->iPython->vdk-ipython) (0.2.13)\n",
            "Requirement already satisfied: six>=1.5 in /usr/local/lib/python3.10/dist-packages (from python-dateutil>=2.8.2->pandas->vdk-ipython) (1.16.0)\n",
            "Building wheels for collected packages: vdk-ipython, vdk-sqlite, vdk-core\n",
            "  Building wheel for vdk-ipython (setup.py) ... \u001b[?25l\u001b[?25hdone\n",
            "  Created wheel for vdk-ipython: filename=vdk_ipython-0.2.1190994517-py3-none-any.whl size=8301 sha256=5a0cf2830bcd044aa4863f792687e29513d69c60f1a3101bfbdb8a780a8507e0\n",
            "  Stored in directory: /root/.cache/pip/wheels/17/37/bf/0ff952207ab4f00a44dce79c0973d7700613e00fa214617e2f\n",
            "  Building wheel for vdk-sqlite (setup.py) ... \u001b[?25l\u001b[?25hdone\n",
            "  Created wheel for vdk-sqlite: filename=vdk_sqlite-0.1.1190994517-py3-none-any.whl size=6959 sha256=a128c3817ffbb258b052eebeba83aed385ab3c4ce55fde34b29321ba99c7a58c\n",
            "  Stored in directory: /root/.cache/pip/wheels/0d/ad/72/548e12a56787d15b8abc9baa7b0c8d433866dbaafff9ba305b\n",
            "  Building wheel for vdk-core (setup.py) ... \u001b[?25l\u001b[?25hdone\n",
            "  Created wheel for vdk-core: filename=vdk_core-0.3.1229719287-py2.py3-none-any.whl size=161712 sha256=871a08b28e1c6a05cd7f7945ca24f4d03a631375942573a11ae0fb2b1ec8aec5\n",
            "  Stored in directory: /root/.cache/pip/wheels/4a/81/08/4a5d822e980044e09927a4eba36d702f20d870cc3f90738106\n",
            "Successfully built vdk-ipython vdk-sqlite vdk-core\n",
            "Installing collected packages: jedi, click_log, vdk-core, vdk-sqlite, vdk-ipython\n",
            "Successfully installed click_log-0.4.0 jedi-0.19.1 vdk-core-0.3.1229719287 vdk-ipython-0.2.1190994517 vdk-sqlite-0.1.1190994517\n"
          ]
        }
      ],
      "source": [
        "!pip install vdk-ipython vdk-sqlite"
      ]
    },
    {
      "cell_type": "markdown",
      "source": [
        "The relevant Data Job code is in the upcoming cells.\n",
        "<br>Alternatively, you can see the implementation of the data job <a href=\"https://github.com/vmware/versatile-data-kit/tree/main/examples/sqlite-processing-example/sqlite-example-job\">here</a>"
      ],
      "metadata": {
        "id": "Orkqbxmq6b8V"
      }
    },
    {
      "cell_type": "markdown",
      "source": [
        "## 2. Database"
      ],
      "metadata": {
        "id": "9QrNfgmB7Xul"
      }
    },
    {
      "cell_type": "markdown",
      "source": [
        "We will be using the chinook SQLite database. Here we can download it using the following commands."
      ],
      "metadata": {
        "id": "LU5Dl2ZS7e0t"
      }
    },
    {
      "cell_type": "code",
      "source": [
        "!curl https://www.sqlitetutorial.net/wp-content/uploads/2018/03/chinook.zip >> chinook.zip\n",
        "!unzip chinook.zip\n",
        "!rm -r chinook.zip"
      ],
      "metadata": {
        "id": "DzZpnw3Zp7F8",
        "colab": {
          "base_uri": "https://localhost:8080/"
        },
        "outputId": "190275c2-106e-4d8b-f0f1-373432915669"
      },
      "execution_count": 2,
      "outputs": [
        {
          "output_type": "stream",
          "name": "stdout",
          "text": [
            "  % Total    % Received % Xferd  Average Speed   Time    Time     Time  Current\n",
            "                                 Dload  Upload   Total   Spent    Left  Speed\n",
            "\r  0     0    0     0    0     0      0      0 --:--:-- --:--:-- --:--:--     0\r100  298k  100  298k    0     0  1439k      0 --:--:-- --:--:-- --:--:-- 1441k\n",
            "Archive:  chinook.zip\n",
            "  inflating: chinook.db              \n"
          ]
        }
      ]
    },
    {
      "cell_type": "markdown",
      "source": [
        "chinook.db' should now be located in the same directory where the original zip file was downloaded."
      ],
      "metadata": {
        "id": "wmbZGGZp754v"
      }
    },
    {
      "cell_type": "markdown",
      "source": [
        "## 3. Configuration"
      ],
      "metadata": {
        "id": "S9YY589K8KTh"
      }
    },
    {
      "cell_type": "markdown",
      "source": [
        "We have previously installed Versatile Data Kit and the plugins required for the example. Now the path to the database we just downloaded must be declared as an environment variable.\n"
      ],
      "metadata": {
        "id": "isMdKlfv8RjJ"
      }
    },
    {
      "cell_type": "code",
      "source": [
        "%env VDK_SQLITE_FILE=chinook.db"
      ],
      "metadata": {
        "id": "bVt_UlegyLQE",
        "colab": {
          "base_uri": "https://localhost:8080/"
        },
        "outputId": "9c98801a-230a-4e04-9b73-d07ed0fba655"
      },
      "execution_count": 3,
      "outputs": [
        {
          "output_type": "stream",
          "name": "stdout",
          "text": [
            "env: VDK_SQLITE_FILE=chinook.db\n"
          ]
        }
      ]
    },
    {
      "cell_type": "markdown",
      "source": [
        "To load the extension in Collab notebook run the following command"
      ],
      "metadata": {
        "id": "e3Ty8lAITGeZ"
      }
    },
    {
      "cell_type": "code",
      "source": [
        "%reload_ext vdk.plugin.ipython"
      ],
      "metadata": {
        "id": "rrtSp0uLTWQ6"
      },
      "execution_count": 4,
      "outputs": []
    },
    {
      "cell_type": "markdown",
      "source": [
        "And load the VDK (Job controll object)"
      ],
      "metadata": {
        "id": "Pq_1zkMETamc"
      }
    },
    {
      "cell_type": "code",
      "source": [
        "%reload_VDK"
      ],
      "metadata": {
        "id": "qpUSh2kLTYV7"
      },
      "execution_count": 5,
      "outputs": []
    },
    {
      "cell_type": "markdown",
      "source": [
        "## 4. Data Job"
      ],
      "metadata": {
        "id": "wDPpw8xe8wBP"
      }
    },
    {
      "cell_type": "markdown",
      "source": [
        "The structure of our Data Job in following cells is as follows:<br><br>\n",
        "**sqlite-example-job**<br>\n",
        "├── 1-Drop Table<br>\n",
        "├── 2-Create Table<br>\n",
        "├── 3-Do the processing<br><br>\n",
        "\n",
        "The purpose of our Data Job ***sqlite-example-job*** is to extract the EmployeeId and names of employees who work with customers, and the number of customers they work with, and insert them into a newly-created table called ***customer_count_per_employee***.<br><br>\n",
        "\n",
        "Our Data Job consists of three SQL steps. Using ***%%vdksql*** cell magic command we will be running each query in our notebook.<br><br>\n",
        "\n",
        "**Each SQL step is a separate query:**\n",
        "\n",
        "- The first step deletes the new table if it exists. This query only serves to make the Data Job repeatable;\n",
        "- The second step creates the table we will be inserting data;\n",
        "- The third step performs the described processing and inserts the new data into the customer_count_per_employee table.\n",
        "\n",
        "<br>\n",
        "Run each of the following cells in order to observe the job in action.\n"
      ],
      "metadata": {
        "id": "CFrCNMbL80lX"
      }
    },
    {
      "cell_type": "markdown",
      "source": [
        "### Step 1: Drop Table"
      ],
      "metadata": {
        "id": "k6DvRJegVFBB"
      }
    },
    {
      "cell_type": "code",
      "source": [
        "%%vdksql\n",
        "DROP TABLE IF EXISTS customer_count_per_employee;"
      ],
      "metadata": {
        "id": "ox6Y6rYHUna2",
        "colab": {
          "base_uri": "https://localhost:8080/",
          "height": 201
        },
        "outputId": "4137a683-b31e-4eb7-f39e-a00f2e5aea3d"
      },
      "execution_count": 6,
      "outputs": [
        {
          "output_type": "stream",
          "name": "stderr",
          "text": [
            "2024-04-04 16:47:55,156 [VDK] content [INFO ] vdk.plugin.sqlite.sqlite_conne sqlite_connection.py:29   new_connection  [id:f1f0bec7-b48c-48d2-ad85-b45a7fbe0ba8-1712249274-9a965]- Creating new connection against local file database located at: chinook.db\n",
            "2024-04-04 16:47:55,158 [VDK] content [INFO ] vdk.plugin.sqlite.sqlite_conne sqlite_connection.py:29   new_connection  [id:f1f0bec7-b48c-48d2-ad85-b45a7fbe0ba8-1712249274-9a965]- Creating new connection against local file database located at: chinook.db\n",
            "2024-04-04 16:47:55,398 [VDK] content [INFO ] vdk.internal.builtin_plugins.c    managed_cursor.py:229  _execute_operati[id:f1f0bec7-b48c-48d2-ad85-b45a7fbe0ba8-1712249274-9a965]- Executing query:\n",
            "-- job_name: content\n",
            "-- op_id: f1f0bec7-b48c-48d2-ad85-b45a7fbe0ba8-1712249274\n",
            "DROP TABLE IF EXISTS customer_count_per_employee;\n",
            "\n",
            "2024-04-04 16:47:55,401 [VDK] content [INFO ] vdk.internal.builtin_plugins.c    managed_cursor.py:103  execute         [id:f1f0bec7-b48c-48d2-ad85-b45a7fbe0ba8-1712249274-9a965]- Executing query SUCCEEDED. Query duration 00h:00m:00s\n"
          ]
        },
        {
          "output_type": "execute_result",
          "data": {
            "text/plain": [
              "'Query statement executed successfully.'"
            ],
            "application/vnd.google.colaboratory.intrinsic+json": {
              "type": "string"
            }
          },
          "metadata": {},
          "execution_count": 6
        }
      ]
    },
    {
      "cell_type": "markdown",
      "source": [
        "### Step 2: Create Table"
      ],
      "metadata": {
        "id": "4R4Hlkn9VWv7"
      }
    },
    {
      "cell_type": "code",
      "source": [
        "%%vdksql\n",
        "CREATE TABLE customer_count_per_employee (EmployeeId, EmployeeFirstName, EmployeeLastName, CustomerCount);"
      ],
      "metadata": {
        "id": "IFGyO8VQU3Rp",
        "colab": {
          "base_uri": "https://localhost:8080/",
          "height": 255
        },
        "outputId": "dad11e91-6caf-43af-aeb7-72da1bbadc6d"
      },
      "execution_count": 7,
      "outputs": [
        {
          "output_type": "stream",
          "name": "stderr",
          "text": [
            "2024-04-04 16:47:55,419 [VDK] content [INFO ] vdk.internal.builtin_plugins.c    managed_cursor.py:229  _execute_operati[id:f1f0bec7-b48c-48d2-ad85-b45a7fbe0ba8-1712249274-9a965]- Executing query:\n",
            "-- job_name: content\n",
            "-- op_id: f1f0bec7-b48c-48d2-ad85-b45a7fbe0ba8-1712249274\n",
            " select 1 -- Testing if connection is alive.\n",
            "2024-04-04 16:47:55,422 [VDK] content [INFO ] vdk.internal.builtin_plugins.c    managed_cursor.py:103  execute         [id:f1f0bec7-b48c-48d2-ad85-b45a7fbe0ba8-1712249274-9a965]- Executing query SUCCEEDED. Query duration 00h:00m:00s\n",
            "2024-04-04 16:47:55,425 [VDK] content [INFO ] vdk.internal.builtin_plugins.c    managed_cursor.py:229  _execute_operati[id:f1f0bec7-b48c-48d2-ad85-b45a7fbe0ba8-1712249274-9a965]- Executing query:\n",
            "-- job_name: content\n",
            "-- op_id: f1f0bec7-b48c-48d2-ad85-b45a7fbe0ba8-1712249274\n",
            "CREATE TABLE customer_count_per_employee (EmployeeId, EmployeeFirstName, EmployeeLastName, CustomerCount);\n",
            "\n",
            "2024-04-04 16:47:55,442 [VDK] content [INFO ] vdk.internal.builtin_plugins.c    managed_cursor.py:103  execute         [id:f1f0bec7-b48c-48d2-ad85-b45a7fbe0ba8-1712249274-9a965]- Executing query SUCCEEDED. Query duration 00h:00m:00s\n"
          ]
        },
        {
          "output_type": "execute_result",
          "data": {
            "text/plain": [
              "'Query statement executed successfully.'"
            ],
            "application/vnd.google.colaboratory.intrinsic+json": {
              "type": "string"
            }
          },
          "metadata": {},
          "execution_count": 7
        }
      ]
    },
    {
      "cell_type": "markdown",
      "source": [
        "### Step 3: Do the processing"
      ],
      "metadata": {
        "id": "Eit_CLguVd71"
      }
    },
    {
      "cell_type": "code",
      "source": [
        "%%vdksql\n",
        "INSERT INTO customer_count_per_employee\n",
        "SELECT SupportRepId, employees.FirstName, employees.LastName, COUNT(CustomerId)\n",
        "FROM (customers INNER JOIN employees ON customers.SupportRepId = employees.EmployeeId)\n",
        "GROUP BY SupportRepId;"
      ],
      "metadata": {
        "id": "jWVMp4GtU7xS",
        "colab": {
          "base_uri": "https://localhost:8080/",
          "height": 310
        },
        "outputId": "ecd0f617-d80c-4ede-92be-ea328d945fc2"
      },
      "execution_count": 8,
      "outputs": [
        {
          "output_type": "stream",
          "name": "stderr",
          "text": [
            "2024-04-04 16:47:55,458 [VDK] content [INFO ] vdk.internal.builtin_plugins.c    managed_cursor.py:229  _execute_operati[id:f1f0bec7-b48c-48d2-ad85-b45a7fbe0ba8-1712249274-9a965]- Executing query:\n",
            "-- job_name: content\n",
            "-- op_id: f1f0bec7-b48c-48d2-ad85-b45a7fbe0ba8-1712249274\n",
            " select 1 -- Testing if connection is alive.\n",
            "2024-04-04 16:47:55,462 [VDK] content [INFO ] vdk.internal.builtin_plugins.c    managed_cursor.py:103  execute         [id:f1f0bec7-b48c-48d2-ad85-b45a7fbe0ba8-1712249274-9a965]- Executing query SUCCEEDED. Query duration 00h:00m:00s\n",
            "2024-04-04 16:47:55,464 [VDK] content [INFO ] vdk.internal.builtin_plugins.c    managed_cursor.py:229  _execute_operati[id:f1f0bec7-b48c-48d2-ad85-b45a7fbe0ba8-1712249274-9a965]- Executing query:\n",
            "-- job_name: content\n",
            "-- op_id: f1f0bec7-b48c-48d2-ad85-b45a7fbe0ba8-1712249274\n",
            "INSERT INTO customer_count_per_employee\n",
            "SELECT SupportRepId, employees.FirstName, employees.LastName, COUNT(CustomerId)\n",
            "FROM (customers INNER JOIN employees ON customers.SupportRepId = employees.EmployeeId)\n",
            "GROUP BY SupportRepId;\n",
            "\n",
            "2024-04-04 16:47:55,473 [VDK] content [INFO ] vdk.internal.builtin_plugins.c    managed_cursor.py:103  execute         [id:f1f0bec7-b48c-48d2-ad85-b45a7fbe0ba8-1712249274-9a965]- Executing query SUCCEEDED. Query duration 00h:00m:00s\n"
          ]
        },
        {
          "output_type": "execute_result",
          "data": {
            "text/plain": [
              "'Query statement executed successfully.'"
            ],
            "application/vnd.google.colaboratory.intrinsic+json": {
              "type": "string"
            }
          },
          "metadata": {},
          "execution_count": 8
        }
      ]
    },
    {
      "cell_type": "markdown",
      "source": [
        "## 5. Results"
      ],
      "metadata": {
        "id": "MGbX1PnhAWMb"
      }
    },
    {
      "cell_type": "markdown",
      "source": [
        "After running the Data Job, we can check whether the new table was populated correctly by using the **sqlite-query** command afforded to us by the **vdk-sqlite** plugin, which we can use to execute queries against the configured SQLite database without having to set up a Data Job:"
      ],
      "metadata": {
        "id": "S7RiHPv7AcvJ"
      }
    },
    {
      "cell_type": "code",
      "source": [
        "%%vdksql\n",
        "SELECT * FROM customer_count_per_employee"
      ],
      "metadata": {
        "id": "HXIoXqknz9Lh",
        "colab": {
          "base_uri": "https://localhost:8080/",
          "height": 454
        },
        "outputId": "55ff7d35-b13c-4e80-f357-221791962327"
      },
      "execution_count": 9,
      "outputs": [
        {
          "output_type": "stream",
          "name": "stderr",
          "text": [
            "2024-04-04 16:47:55,484 [VDK] content [INFO ] vdk.internal.builtin_plugins.c    managed_cursor.py:229  _execute_operati[id:f1f0bec7-b48c-48d2-ad85-b45a7fbe0ba8-1712249274-9a965]- Executing query:\n",
            "-- job_name: content\n",
            "-- op_id: f1f0bec7-b48c-48d2-ad85-b45a7fbe0ba8-1712249274\n",
            " select 1 -- Testing if connection is alive.\n",
            "2024-04-04 16:47:55,489 [VDK] content [INFO ] vdk.internal.builtin_plugins.c    managed_cursor.py:103  execute         [id:f1f0bec7-b48c-48d2-ad85-b45a7fbe0ba8-1712249274-9a965]- Executing query SUCCEEDED. Query duration 00h:00m:00s\n",
            "2024-04-04 16:47:55,491 [VDK] content [INFO ] vdk.internal.builtin_plugins.c    managed_cursor.py:229  _execute_operati[id:f1f0bec7-b48c-48d2-ad85-b45a7fbe0ba8-1712249274-9a965]- Executing query:\n",
            "-- job_name: content\n",
            "-- op_id: f1f0bec7-b48c-48d2-ad85-b45a7fbe0ba8-1712249274\n",
            "SELECT * FROM customer_count_per_employee\n",
            "\n",
            "2024-04-04 16:47:55,493 [VDK] content [INFO ] vdk.internal.builtin_plugins.c    managed_cursor.py:103  execute         [id:f1f0bec7-b48c-48d2-ad85-b45a7fbe0ba8-1712249274-9a965]- Executing query SUCCEEDED. Query duration 00h:00m:00s\n",
            "2024-04-04 16:47:55,495 [VDK] content [INFO ] vdk.internal.builtin_plugins.c    managed_cursor.py:288  fetchall        [id:f1f0bec7-b48c-48d2-ad85-b45a7fbe0ba8-1712249274-9a965]- Fetching all results from query ...\n",
            "2024-04-04 16:47:55,496 [VDK] content [INFO ] vdk.internal.builtin_plugins.c    managed_cursor.py:291  fetchall        [id:f1f0bec7-b48c-48d2-ad85-b45a7fbe0ba8-1712249274-9a965]- Fetching all results from query SUCCEEDED.\n",
            "2024-04-04 16:47:55,497 [VDK] content [INFO ] vdk.internal.builtin_plugins.c    managed_cursor.py:298  close           [id:f1f0bec7-b48c-48d2-ad85-b45a7fbe0ba8-1712249274-9a965]- Closing DB cursor ...\n",
            "2024-04-04 16:47:55,498 [VDK] content [INFO ] vdk.internal.builtin_plugins.c    managed_cursor.py:300  close           [id:f1f0bec7-b48c-48d2-ad85-b45a7fbe0ba8-1712249274-9a965]- Closing DB cursor SUCCEEDED.\n",
            "2024-04-04 16:47:55,515 [VDK] content [INFO ] vdk.plugin.ipython.sql                       sql.py:82   prepare_result_c[id:f1f0bec7-b48c-48d2-ad85-b45a7fbe0ba8-1712249274-9a965]- ipyaggrid is not installed. If installed result would be formatted in an interactive grid.\n"
          ]
        },
        {
          "output_type": "execute_result",
          "data": {
            "text/plain": [
              "   EmployeeId EmployeeFirstName EmployeeLastName  CustomerCount\n",
              "0           3              Jane          Peacock             21\n",
              "1           4          Margaret             Park             20\n",
              "2           5             Steve          Johnson             18"
            ],
            "text/html": [
              "\n",
              "  <div id=\"df-2fb01ade-a162-47ab-b88f-bbeb0a650e4c\" class=\"colab-df-container\">\n",
              "    <div>\n",
              "<style scoped>\n",
              "    .dataframe tbody tr th:only-of-type {\n",
              "        vertical-align: middle;\n",
              "    }\n",
              "\n",
              "    .dataframe tbody tr th {\n",
              "        vertical-align: top;\n",
              "    }\n",
              "\n",
              "    .dataframe thead th {\n",
              "        text-align: right;\n",
              "    }\n",
              "</style>\n",
              "<table border=\"1\" class=\"dataframe\">\n",
              "  <thead>\n",
              "    <tr style=\"text-align: right;\">\n",
              "      <th></th>\n",
              "      <th>EmployeeId</th>\n",
              "      <th>EmployeeFirstName</th>\n",
              "      <th>EmployeeLastName</th>\n",
              "      <th>CustomerCount</th>\n",
              "    </tr>\n",
              "  </thead>\n",
              "  <tbody>\n",
              "    <tr>\n",
              "      <th>0</th>\n",
              "      <td>3</td>\n",
              "      <td>Jane</td>\n",
              "      <td>Peacock</td>\n",
              "      <td>21</td>\n",
              "    </tr>\n",
              "    <tr>\n",
              "      <th>1</th>\n",
              "      <td>4</td>\n",
              "      <td>Margaret</td>\n",
              "      <td>Park</td>\n",
              "      <td>20</td>\n",
              "    </tr>\n",
              "    <tr>\n",
              "      <th>2</th>\n",
              "      <td>5</td>\n",
              "      <td>Steve</td>\n",
              "      <td>Johnson</td>\n",
              "      <td>18</td>\n",
              "    </tr>\n",
              "  </tbody>\n",
              "</table>\n",
              "</div>\n",
              "    <div class=\"colab-df-buttons\">\n",
              "\n",
              "  <div class=\"colab-df-container\">\n",
              "    <button class=\"colab-df-convert\" onclick=\"convertToInteractive('df-2fb01ade-a162-47ab-b88f-bbeb0a650e4c')\"\n",
              "            title=\"Convert this dataframe to an interactive table.\"\n",
              "            style=\"display:none;\">\n",
              "\n",
              "  <svg xmlns=\"http://www.w3.org/2000/svg\" height=\"24px\" viewBox=\"0 -960 960 960\">\n",
              "    <path d=\"M120-120v-720h720v720H120Zm60-500h600v-160H180v160Zm220 220h160v-160H400v160Zm0 220h160v-160H400v160ZM180-400h160v-160H180v160Zm440 0h160v-160H620v160ZM180-180h160v-160H180v160Zm440 0h160v-160H620v160Z\"/>\n",
              "  </svg>\n",
              "    </button>\n",
              "\n",
              "  <style>\n",
              "    .colab-df-container {\n",
              "      display:flex;\n",
              "      gap: 12px;\n",
              "    }\n",
              "\n",
              "    .colab-df-convert {\n",
              "      background-color: #E8F0FE;\n",
              "      border: none;\n",
              "      border-radius: 50%;\n",
              "      cursor: pointer;\n",
              "      display: none;\n",
              "      fill: #1967D2;\n",
              "      height: 32px;\n",
              "      padding: 0 0 0 0;\n",
              "      width: 32px;\n",
              "    }\n",
              "\n",
              "    .colab-df-convert:hover {\n",
              "      background-color: #E2EBFA;\n",
              "      box-shadow: 0px 1px 2px rgba(60, 64, 67, 0.3), 0px 1px 3px 1px rgba(60, 64, 67, 0.15);\n",
              "      fill: #174EA6;\n",
              "    }\n",
              "\n",
              "    .colab-df-buttons div {\n",
              "      margin-bottom: 4px;\n",
              "    }\n",
              "\n",
              "    [theme=dark] .colab-df-convert {\n",
              "      background-color: #3B4455;\n",
              "      fill: #D2E3FC;\n",
              "    }\n",
              "\n",
              "    [theme=dark] .colab-df-convert:hover {\n",
              "      background-color: #434B5C;\n",
              "      box-shadow: 0px 1px 3px 1px rgba(0, 0, 0, 0.15);\n",
              "      filter: drop-shadow(0px 1px 2px rgba(0, 0, 0, 0.3));\n",
              "      fill: #FFFFFF;\n",
              "    }\n",
              "  </style>\n",
              "\n",
              "    <script>\n",
              "      const buttonEl =\n",
              "        document.querySelector('#df-2fb01ade-a162-47ab-b88f-bbeb0a650e4c button.colab-df-convert');\n",
              "      buttonEl.style.display =\n",
              "        google.colab.kernel.accessAllowed ? 'block' : 'none';\n",
              "\n",
              "      async function convertToInteractive(key) {\n",
              "        const element = document.querySelector('#df-2fb01ade-a162-47ab-b88f-bbeb0a650e4c');\n",
              "        const dataTable =\n",
              "          await google.colab.kernel.invokeFunction('convertToInteractive',\n",
              "                                                    [key], {});\n",
              "        if (!dataTable) return;\n",
              "\n",
              "        const docLinkHtml = 'Like what you see? Visit the ' +\n",
              "          '<a target=\"_blank\" href=https://colab.research.google.com/notebooks/data_table.ipynb>data table notebook</a>'\n",
              "          + ' to learn more about interactive tables.';\n",
              "        element.innerHTML = '';\n",
              "        dataTable['output_type'] = 'display_data';\n",
              "        await google.colab.output.renderOutput(dataTable, element);\n",
              "        const docLink = document.createElement('div');\n",
              "        docLink.innerHTML = docLinkHtml;\n",
              "        element.appendChild(docLink);\n",
              "      }\n",
              "    </script>\n",
              "  </div>\n",
              "\n",
              "\n",
              "<div id=\"df-0ac81cc8-104e-46a4-bd43-b4996ad44c8e\">\n",
              "  <button class=\"colab-df-quickchart\" onclick=\"quickchart('df-0ac81cc8-104e-46a4-bd43-b4996ad44c8e')\"\n",
              "            title=\"Suggest charts\"\n",
              "            style=\"display:none;\">\n",
              "\n",
              "<svg xmlns=\"http://www.w3.org/2000/svg\" height=\"24px\"viewBox=\"0 0 24 24\"\n",
              "     width=\"24px\">\n",
              "    <g>\n",
              "        <path d=\"M19 3H5c-1.1 0-2 .9-2 2v14c0 1.1.9 2 2 2h14c1.1 0 2-.9 2-2V5c0-1.1-.9-2-2-2zM9 17H7v-7h2v7zm4 0h-2V7h2v10zm4 0h-2v-4h2v4z\"/>\n",
              "    </g>\n",
              "</svg>\n",
              "  </button>\n",
              "\n",
              "<style>\n",
              "  .colab-df-quickchart {\n",
              "      --bg-color: #E8F0FE;\n",
              "      --fill-color: #1967D2;\n",
              "      --hover-bg-color: #E2EBFA;\n",
              "      --hover-fill-color: #174EA6;\n",
              "      --disabled-fill-color: #AAA;\n",
              "      --disabled-bg-color: #DDD;\n",
              "  }\n",
              "\n",
              "  [theme=dark] .colab-df-quickchart {\n",
              "      --bg-color: #3B4455;\n",
              "      --fill-color: #D2E3FC;\n",
              "      --hover-bg-color: #434B5C;\n",
              "      --hover-fill-color: #FFFFFF;\n",
              "      --disabled-bg-color: #3B4455;\n",
              "      --disabled-fill-color: #666;\n",
              "  }\n",
              "\n",
              "  .colab-df-quickchart {\n",
              "    background-color: var(--bg-color);\n",
              "    border: none;\n",
              "    border-radius: 50%;\n",
              "    cursor: pointer;\n",
              "    display: none;\n",
              "    fill: var(--fill-color);\n",
              "    height: 32px;\n",
              "    padding: 0;\n",
              "    width: 32px;\n",
              "  }\n",
              "\n",
              "  .colab-df-quickchart:hover {\n",
              "    background-color: var(--hover-bg-color);\n",
              "    box-shadow: 0 1px 2px rgba(60, 64, 67, 0.3), 0 1px 3px 1px rgba(60, 64, 67, 0.15);\n",
              "    fill: var(--button-hover-fill-color);\n",
              "  }\n",
              "\n",
              "  .colab-df-quickchart-complete:disabled,\n",
              "  .colab-df-quickchart-complete:disabled:hover {\n",
              "    background-color: var(--disabled-bg-color);\n",
              "    fill: var(--disabled-fill-color);\n",
              "    box-shadow: none;\n",
              "  }\n",
              "\n",
              "  .colab-df-spinner {\n",
              "    border: 2px solid var(--fill-color);\n",
              "    border-color: transparent;\n",
              "    border-bottom-color: var(--fill-color);\n",
              "    animation:\n",
              "      spin 1s steps(1) infinite;\n",
              "  }\n",
              "\n",
              "  @keyframes spin {\n",
              "    0% {\n",
              "      border-color: transparent;\n",
              "      border-bottom-color: var(--fill-color);\n",
              "      border-left-color: var(--fill-color);\n",
              "    }\n",
              "    20% {\n",
              "      border-color: transparent;\n",
              "      border-left-color: var(--fill-color);\n",
              "      border-top-color: var(--fill-color);\n",
              "    }\n",
              "    30% {\n",
              "      border-color: transparent;\n",
              "      border-left-color: var(--fill-color);\n",
              "      border-top-color: var(--fill-color);\n",
              "      border-right-color: var(--fill-color);\n",
              "    }\n",
              "    40% {\n",
              "      border-color: transparent;\n",
              "      border-right-color: var(--fill-color);\n",
              "      border-top-color: var(--fill-color);\n",
              "    }\n",
              "    60% {\n",
              "      border-color: transparent;\n",
              "      border-right-color: var(--fill-color);\n",
              "    }\n",
              "    80% {\n",
              "      border-color: transparent;\n",
              "      border-right-color: var(--fill-color);\n",
              "      border-bottom-color: var(--fill-color);\n",
              "    }\n",
              "    90% {\n",
              "      border-color: transparent;\n",
              "      border-bottom-color: var(--fill-color);\n",
              "    }\n",
              "  }\n",
              "</style>\n",
              "\n",
              "  <script>\n",
              "    async function quickchart(key) {\n",
              "      const quickchartButtonEl =\n",
              "        document.querySelector('#' + key + ' button');\n",
              "      quickchartButtonEl.disabled = true;  // To prevent multiple clicks.\n",
              "      quickchartButtonEl.classList.add('colab-df-spinner');\n",
              "      try {\n",
              "        const charts = await google.colab.kernel.invokeFunction(\n",
              "            'suggestCharts', [key], {});\n",
              "      } catch (error) {\n",
              "        console.error('Error during call to suggestCharts:', error);\n",
              "      }\n",
              "      quickchartButtonEl.classList.remove('colab-df-spinner');\n",
              "      quickchartButtonEl.classList.add('colab-df-quickchart-complete');\n",
              "    }\n",
              "    (() => {\n",
              "      let quickchartButtonEl =\n",
              "        document.querySelector('#df-0ac81cc8-104e-46a4-bd43-b4996ad44c8e button');\n",
              "      quickchartButtonEl.style.display =\n",
              "        google.colab.kernel.accessAllowed ? 'block' : 'none';\n",
              "    })();\n",
              "  </script>\n",
              "</div>\n",
              "\n",
              "    </div>\n",
              "  </div>\n"
            ],
            "application/vnd.google.colaboratory.intrinsic+json": {
              "type": "dataframe",
              "summary": "{\n  \"name\": \"get_ipython()\",\n  \"rows\": 3,\n  \"fields\": [\n    {\n      \"column\": \"EmployeeId\",\n      \"properties\": {\n        \"dtype\": \"number\",\n        \"std\": 1,\n        \"min\": 3,\n        \"max\": 5,\n        \"num_unique_values\": 3,\n        \"samples\": [\n          3,\n          4,\n          5\n        ],\n        \"semantic_type\": \"\",\n        \"description\": \"\"\n      }\n    },\n    {\n      \"column\": \"EmployeeFirstName\",\n      \"properties\": {\n        \"dtype\": \"string\",\n        \"num_unique_values\": 3,\n        \"samples\": [\n          \"Jane\",\n          \"Margaret\",\n          \"Steve\"\n        ],\n        \"semantic_type\": \"\",\n        \"description\": \"\"\n      }\n    },\n    {\n      \"column\": \"EmployeeLastName\",\n      \"properties\": {\n        \"dtype\": \"string\",\n        \"num_unique_values\": 3,\n        \"samples\": [\n          \"Peacock\",\n          \"Park\",\n          \"Johnson\"\n        ],\n        \"semantic_type\": \"\",\n        \"description\": \"\"\n      }\n    },\n    {\n      \"column\": \"CustomerCount\",\n      \"properties\": {\n        \"dtype\": \"number\",\n        \"std\": 1,\n        \"min\": 18,\n        \"max\": 21,\n        \"num_unique_values\": 3,\n        \"samples\": [\n          21,\n          20,\n          18\n        ],\n        \"semantic_type\": \"\",\n        \"description\": \"\"\n      }\n    }\n  ]\n}"
            }
          },
          "metadata": {},
          "execution_count": 9
        }
      ]
    }
  ]
}