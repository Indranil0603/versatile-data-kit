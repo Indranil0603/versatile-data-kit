{
  "nbformat": 4,
  "nbformat_minor": 0,
  "metadata": {
    "colab": {
      "provenance": [],
      "toc_visible": true,
      "authorship_tag": "ABX9TyNPRKRaseMnUW1nknG4Suxd",
      "include_colab_link": true
    },
    "kernelspec": {
      "name": "python3",
      "display_name": "Python 3"
    },
    "language_info": {
      "name": "python"
    }
  },
  "cells": [
    {
      "cell_type": "markdown",
      "metadata": {
        "id": "view-in-github",
        "colab_type": "text"
      },
      "source": [
        "<a href=\"https://colab.research.google.com/github/Indranil0603/versatile-data-kit/blob/Indranil%2FIndranil0603%2FColab-notebook-processing-data-using-SQL-and-local-database/examples/colab-notebook-processing_data_using_SQl_and_local_database/colab-notebook-processing_data_using_SQl_and_local_database.ipynb\" target=\"_parent\"><img src=\"https://colab.research.google.com/assets/colab-badge.svg\" alt=\"Open In Colab\"/></a>"
      ]
    },
    {
      "cell_type": "markdown",
      "source": [
        "# Processing data using SQl and local database"
      ],
      "metadata": {
        "id": "SiXBOvrboX9e"
      }
    },
    {
      "cell_type": "markdown",
      "source": [
        "The notebook provides a guide on how to read data from a local SQLite database, process it,and write the result to the same database using [Versatile Data Kit (VDK)](https://github.com/vmware/versatile-data-kit)\n"
      ],
      "metadata": {
        "id": "FpCoerAj0hau"
      }
    },
    {
      "cell_type": "markdown",
      "source": [
        "<a name=\"prerequisites\"></a>\n",
        "## 1. Prerequisites"
      ],
      "metadata": {
        "id": "f9XXCBpI1eMW"
      }
    },
    {
      "cell_type": "markdown",
      "source": [
        "### 1.1 Good to Know Before Your Start"
      ],
      "metadata": {
        "id": "q_pbljVH2cFr"
      }
    },
    {
      "cell_type": "markdown",
      "source": [
        "This tutorial can be easily understood if you are familiar with:\n",
        "\n",
        "- **Python and SQL**: Basic commands and queries\n",
        "- **Tools**: Comfort with command line and Jupyter Notebook"
      ],
      "metadata": {
        "id": "jYmcEhgE2zNn"
      }
    },
    {
      "cell_type": "markdown",
      "source": [
        "### 1.2 Useful notebook shortcuts"
      ],
      "metadata": {
        "id": "CKYPWV8-3XE8"
      }
    },
    {
      "cell_type": "markdown",
      "source": [
        "* Click the **Play icon** in the left gutter of the cell;\n",
        "* Type **Cmd/Ctrl+Enter** to run the cell in place;\n",
        "* Type **Shift+Enter** to run the cell and move focus to the next cell (adding one if none exists); or\n",
        "* Type **Alt+Enter** to run the cell and insert a new code cell immediately below it.\n",
        "\n",
        "There are additional options for running some or all cells in the **Runtime** menu on top."
      ],
      "metadata": {
        "id": "Mh2kLwz73mk3"
      }
    },
    {
      "cell_type": "markdown",
      "source": [
        "### 1.3 Install Versatile Data Kit and required plugins\n",
        "\n",
        "\n"
      ],
      "metadata": {
        "id": "5s_z56EF3v3o"
      }
    },
    {
      "cell_type": "code",
      "execution_count": null,
      "metadata": {
        "id": "1tN44vxJoTLa"
      },
      "outputs": [],
      "source": [
        "!pip install vdk-ipython vdk-sqlite"
      ]
    },
    {
      "cell_type": "markdown",
      "source": [
        "## 2. Code"
      ],
      "metadata": {
        "id": "VemT3HGK6PsS"
      }
    },
    {
      "cell_type": "markdown",
      "source": [
        "The relevant Data Job code is fetched in the sqlite-example-job directory. You can see it after running the below cell.\n",
        "<br>Alternatively, you can use the available code as template and extend it to make a Data Job that fits your use case."
      ],
      "metadata": {
        "id": "Orkqbxmq6b8V"
      }
    },
    {
      "cell_type": "code",
      "source": [
        "!git clone https://github.com/vmware/versatile-data-kit\n",
        "!cp -r /content/versatile-data-kit/examples/sqlite-processing-example/sqlite-example-job/ sqlite-example-job/\n",
        "!rm -r versatile-data-kit/"
      ],
      "metadata": {
        "id": "GYCT2cWkqpaL"
      },
      "execution_count": null,
      "outputs": []
    },
    {
      "cell_type": "markdown",
      "source": [
        "## 3. Database"
      ],
      "metadata": {
        "id": "9QrNfgmB7Xul"
      }
    },
    {
      "cell_type": "markdown",
      "source": [
        "We will be using the chinook SQLite database. Here we can download it using the following commands."
      ],
      "metadata": {
        "id": "LU5Dl2ZS7e0t"
      }
    },
    {
      "cell_type": "code",
      "source": [
        "!curl https://www.sqlitetutorial.net/wp-content/uploads/2018/03/chinook.zip >> chinook.zip\n",
        "!unzip chinook.zip\n",
        "!rm -r chinook.zip"
      ],
      "metadata": {
        "id": "DzZpnw3Zp7F8"
      },
      "execution_count": null,
      "outputs": []
    },
    {
      "cell_type": "markdown",
      "source": [
        "chinook.db' should now be located in the same directory where the original zip file was downloaded."
      ],
      "metadata": {
        "id": "wmbZGGZp754v"
      }
    },
    {
      "cell_type": "markdown",
      "source": [
        "## 4. Configuration"
      ],
      "metadata": {
        "id": "S9YY589K8KTh"
      }
    },
    {
      "cell_type": "markdown",
      "source": [
        "We have previously installed Versatile Data Kit and the plugins required for the example. Now the path to the database we just downloaded must be declared as an environment variable."
      ],
      "metadata": {
        "id": "isMdKlfv8RjJ"
      }
    },
    {
      "cell_type": "code",
      "source": [
        "%env VDK_SQLITE_FILE=chinook.db"
      ],
      "metadata": {
        "id": "bVt_UlegyLQE"
      },
      "execution_count": null,
      "outputs": []
    },
    {
      "cell_type": "markdown",
      "source": [
        "## 5. Data Job"
      ],
      "metadata": {
        "id": "wDPpw8xe8wBP"
      }
    },
    {
      "cell_type": "markdown",
      "source": [
        "The structure of our Data Job is as follows:<br><br>\n",
        "**sqlite-example-job/**<br>\n",
        "├── 10_drop_table.sql<br>\n",
        "├── 20_create_table.sql<br>\n",
        "├── 30_do_processing.sql<br><br>\n",
        "\n",
        "The purpose of our Data Job ***sqlite-example-job*** is to extract the EmployeeId and names of employees who work with customers, and the number of customers they work with, and insert them into a newly-created table called ***customer_count_per_employee***.<br><br>\n",
        "\n",
        "Our Data Job consists of three SQL steps. Since steps are executed in alphabetical order, it is a good practice to prefix the step titles with numbers. This makes the sequence of the steps clear to the Versatile Data Kit and other users who may browse through the Data Job.<br><br>\n",
        "\n",
        "**Each SQL step is a separate query:**\n",
        "\n",
        "- The first step deletes the new table if it exists. This query only serves to make the Data Job repeatable;\n",
        "- The second step creates the table we will be inserting data;\n",
        "- The third step performs the described processing and inserts the new data into the customer_count_per_employee table.\n",
        "\n",
        "<br>\n",
        "All three files must be located in the same /sqlite-example-job/ directory.\n",
        "\n",
        "To run the Data Job we use the vdk run command\n"
      ],
      "metadata": {
        "id": "CFrCNMbL80lX"
      }
    },
    {
      "cell_type": "code",
      "source": [
        "!vdk run sqlite-example-job/"
      ],
      "metadata": {
        "id": "en2u12NEqswR"
      },
      "execution_count": null,
      "outputs": []
    },
    {
      "cell_type": "markdown",
      "source": [
        "## 6. Results"
      ],
      "metadata": {
        "id": "MGbX1PnhAWMb"
      }
    },
    {
      "cell_type": "markdown",
      "source": [
        "After running the Data Job, we can check whether the new table was populated correctly by using the **sqlite-query** command afforded to us by the **vdk-sqlite** plugin, which we can use to execute queries against the configured SQLite database without having to set up a Data Job:"
      ],
      "metadata": {
        "id": "S7RiHPv7AcvJ"
      }
    },
    {
      "cell_type": "code",
      "source": [
        "!vdk sqlite-query -q 'SELECT * FROM customer_count_per_employee'"
      ],
      "metadata": {
        "id": "HXIoXqknz9Lh"
      },
      "execution_count": null,
      "outputs": []
    }
  ]
}
